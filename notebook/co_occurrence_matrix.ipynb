{
 "cells": [
  {
   "cell_type": "code",
   "execution_count": 28,
   "metadata": {
    "pycharm": {
     "is_executing": false
    }
   },
   "outputs": [],
   "source": [
    "from collections import defaultdict\n",
    "\n",
    "import numpy as np\n",
    "import pandas as pd\n",
    "from sqlalchemy import create_engine\n"
   ]
  },
  {
   "cell_type": "code",
   "execution_count": 21,
   "metadata": {},
   "outputs": [],
   "source": [
    "conn = create_engine(\n",
    "    f\"mysql+mysqlconnector://{'root'}:{'rootroot'}@{'127.0.0.1'}:{3306}/{'alaitp'}?charset=utf8\", pool_recycle=3600)"
   ]
  },
  {
   "cell_type": "code",
   "execution_count": 22,
   "metadata": {},
   "outputs": [],
   "source": [
    "def select_raw_words() -> pd.DataFrame:\n",
    "    sql_query = \"\"\"\n",
    "                    SELECT * FROM keywords_en_core_web_lg\n",
    "                \"\"\"\n",
    "    return pd.read_sql_query(sql_query, conn)\n",
    "\n",
    "def select_job_model_words() -> pd.DataFrame:\n",
    "    sql_query = \"\"\"\n",
    "                    SELECT * FROM keywords_job_model\n",
    "                \"\"\"\n",
    "    return pd.read_sql_query(sql_query, conn)"
   ]
  },
  {
   "cell_type": "code",
   "execution_count": 23,
   "metadata": {
    "pycharm": {
     "is_executing": false,
     "name": "#%%\n"
    }
   },
   "outputs": [],
   "source": [
    "df_raw = select_raw_words()\n",
    "df_job = select_job_model_words()"
   ]
  },
  {
   "cell_type": "code",
   "execution_count": 24,
   "metadata": {
    "pycharm": {
     "is_executing": false,
     "name": "#%%\n"
    }
   },
   "outputs": [
    {
     "data": {
      "text/html": [
       "<div>\n",
       "<style scoped>\n",
       "    .dataframe tbody tr th:only-of-type {\n",
       "        vertical-align: middle;\n",
       "    }\n",
       "\n",
       "    .dataframe tbody tr th {\n",
       "        vertical-align: top;\n",
       "    }\n",
       "\n",
       "    .dataframe thead th {\n",
       "        text-align: right;\n",
       "    }\n",
       "</style>\n",
       "<table border=\"1\" class=\"dataframe\">\n",
       "  <thead>\n",
       "    <tr style=\"text-align: right;\">\n",
       "      <th></th>\n",
       "      <th>keyword_name</th>\n",
       "      <th>job_id</th>\n",
       "      <th>created_time</th>\n",
       "      <th>count</th>\n",
       "      <th>source</th>\n",
       "      <th>keyword_type</th>\n",
       "    </tr>\n",
       "  </thead>\n",
       "  <tbody>\n",
       "    <tr>\n",
       "      <th>0</th>\n",
       "      <td>testing</td>\n",
       "      <td>1c629bae5c6dc3f48e10196b19c151186502b30775b199...</td>\n",
       "      <td>2019-12-22 19:33:05</td>\n",
       "      <td>1</td>\n",
       "      <td>all</td>\n",
       "      <td>SOFTWARE_ENGINEERING</td>\n",
       "    </tr>\n",
       "    <tr>\n",
       "      <th>1</th>\n",
       "      <td>3-4+ years of development experience</td>\n",
       "      <td>1c629bae5c6dc3f48e10196b19c151186502b30775b199...</td>\n",
       "      <td>2019-12-22 19:33:05</td>\n",
       "      <td>1</td>\n",
       "      <td>all</td>\n",
       "      <td>WORK_EXPERIENCE</td>\n",
       "    </tr>\n",
       "    <tr>\n",
       "      <th>2</th>\n",
       "      <td>2+ years of experience</td>\n",
       "      <td>1c629bae5c6dc3f48e10196b19c151186502b30775b199...</td>\n",
       "      <td>2019-12-22 19:33:05</td>\n",
       "      <td>1</td>\n",
       "      <td>all</td>\n",
       "      <td>WORK_EXPERIENCE</td>\n",
       "    </tr>\n",
       "    <tr>\n",
       "      <th>3</th>\n",
       "      <td>communication skills</td>\n",
       "      <td>1c629bae5c6dc3f48e10196b19c151186502b30775b199...</td>\n",
       "      <td>2019-12-22 19:33:05</td>\n",
       "      <td>1</td>\n",
       "      <td>all</td>\n",
       "      <td>SOFT_SKILL</td>\n",
       "    </tr>\n",
       "    <tr>\n",
       "      <th>4</th>\n",
       "      <td>Agile</td>\n",
       "      <td>1c629bae5c6dc3f48e10196b19c151186502b30775b199...</td>\n",
       "      <td>2019-12-22 19:33:05</td>\n",
       "      <td>1</td>\n",
       "      <td>all</td>\n",
       "      <td>APPROACH</td>\n",
       "    </tr>\n",
       "    <tr>\n",
       "      <th>...</th>\n",
       "      <td>...</td>\n",
       "      <td>...</td>\n",
       "      <td>...</td>\n",
       "      <td>...</td>\n",
       "      <td>...</td>\n",
       "      <td>...</td>\n",
       "    </tr>\n",
       "    <tr>\n",
       "      <th>28764</th>\n",
       "      <td>problem-solving skills</td>\n",
       "      <td>2923a7d6b1cf9df5993253768bb05ada370ce5e55d1772...</td>\n",
       "      <td>2019-12-22 19:41:58</td>\n",
       "      <td>1</td>\n",
       "      <td>all</td>\n",
       "      <td>GENERAL</td>\n",
       "    </tr>\n",
       "    <tr>\n",
       "      <th>28765</th>\n",
       "      <td>product managers</td>\n",
       "      <td>2923a7d6b1cf9df5993253768bb05ada370ce5e55d1772...</td>\n",
       "      <td>2019-12-22 19:41:58</td>\n",
       "      <td>1</td>\n",
       "      <td>all</td>\n",
       "      <td>POSITION</td>\n",
       "    </tr>\n",
       "    <tr>\n",
       "      <th>28766</th>\n",
       "      <td>constructive feedback</td>\n",
       "      <td>2923a7d6b1cf9df5993253768bb05ada370ce5e55d1772...</td>\n",
       "      <td>2019-12-22 19:41:58</td>\n",
       "      <td>1</td>\n",
       "      <td>all</td>\n",
       "      <td>SOFT_SKILL</td>\n",
       "    </tr>\n",
       "    <tr>\n",
       "      <th>28767</th>\n",
       "      <td>high-quality code</td>\n",
       "      <td>2923a7d6b1cf9df5993253768bb05ada370ce5e55d1772...</td>\n",
       "      <td>2019-12-22 19:41:58</td>\n",
       "      <td>1</td>\n",
       "      <td>all</td>\n",
       "      <td>QUALITY</td>\n",
       "    </tr>\n",
       "    <tr>\n",
       "      <th>28768</th>\n",
       "      <td>fixing issues</td>\n",
       "      <td>2923a7d6b1cf9df5993253768bb05ada370ce5e55d1772...</td>\n",
       "      <td>2019-12-22 19:41:58</td>\n",
       "      <td>1</td>\n",
       "      <td>all</td>\n",
       "      <td>SOFTWARE_ENGINEERING</td>\n",
       "    </tr>\n",
       "  </tbody>\n",
       "</table>\n",
       "<p>28769 rows × 6 columns</p>\n",
       "</div>"
      ],
      "text/plain": [
       "                               keyword_name  \\\n",
       "0                                   testing   \n",
       "1      3-4+ years of development experience   \n",
       "2                    2+ years of experience   \n",
       "3                      communication skills   \n",
       "4                                     Agile   \n",
       "...                                     ...   \n",
       "28764                problem-solving skills   \n",
       "28765                      product managers   \n",
       "28766                 constructive feedback   \n",
       "28767                     high-quality code   \n",
       "28768                         fixing issues   \n",
       "\n",
       "                                                  job_id        created_time  \\\n",
       "0      1c629bae5c6dc3f48e10196b19c151186502b30775b199... 2019-12-22 19:33:05   \n",
       "1      1c629bae5c6dc3f48e10196b19c151186502b30775b199... 2019-12-22 19:33:05   \n",
       "2      1c629bae5c6dc3f48e10196b19c151186502b30775b199... 2019-12-22 19:33:05   \n",
       "3      1c629bae5c6dc3f48e10196b19c151186502b30775b199... 2019-12-22 19:33:05   \n",
       "4      1c629bae5c6dc3f48e10196b19c151186502b30775b199... 2019-12-22 19:33:05   \n",
       "...                                                  ...                 ...   \n",
       "28764  2923a7d6b1cf9df5993253768bb05ada370ce5e55d1772... 2019-12-22 19:41:58   \n",
       "28765  2923a7d6b1cf9df5993253768bb05ada370ce5e55d1772... 2019-12-22 19:41:58   \n",
       "28766  2923a7d6b1cf9df5993253768bb05ada370ce5e55d1772... 2019-12-22 19:41:58   \n",
       "28767  2923a7d6b1cf9df5993253768bb05ada370ce5e55d1772... 2019-12-22 19:41:58   \n",
       "28768  2923a7d6b1cf9df5993253768bb05ada370ce5e55d1772... 2019-12-22 19:41:58   \n",
       "\n",
       "       count source          keyword_type  \n",
       "0          1    all  SOFTWARE_ENGINEERING  \n",
       "1          1    all       WORK_EXPERIENCE  \n",
       "2          1    all       WORK_EXPERIENCE  \n",
       "3          1    all            SOFT_SKILL  \n",
       "4          1    all              APPROACH  \n",
       "...      ...    ...                   ...  \n",
       "28764      1    all               GENERAL  \n",
       "28765      1    all              POSITION  \n",
       "28766      1    all            SOFT_SKILL  \n",
       "28767      1    all               QUALITY  \n",
       "28768      1    all  SOFTWARE_ENGINEERING  \n",
       "\n",
       "[28769 rows x 6 columns]"
      ]
     },
     "execution_count": 24,
     "metadata": {},
     "output_type": "execute_result"
    }
   ],
   "source": [
    "df_job"
   ]
  },
  {
   "cell_type": "code",
   "execution_count": 25,
   "metadata": {
    "pycharm": {
     "name": "#%%\n"
    }
   },
   "outputs": [],
   "source": [
    "unique_tag = list(df_raw.keyword_name.unique())\n",
    "tag_idx = [unique_tag.index(word) for word in unique_tag]\n",
    "tag_dict = dict(zip(unique_tag, tag_idx))\n",
    "idx_to_tag = dict(zip(tag_idx, unique_tag))\n"
   ]
  },
  {
   "cell_type": "code",
   "execution_count": 32,
   "metadata": {},
   "outputs": [],
   "source": [
    "entity_entity_matrix = np.zeros((len(unique_tag), len(unique_tag)), np.float64)\n",
    "keyword_dict = defaultdict(list)\n",
    "for row in df_raw.itertuples():\n",
    "    # Check whether the news_id exist\n",
    "    keyword_tuple = (row.keyword_name, row.count, row.keyword_type)\n",
    "    job_id = row.job_id\n",
    "    keyword_dict[job_id].append(keyword_tuple)\n",
    "\n",
    "for key in keyword_dict:\n",
    "    for item in keyword_dict[key]:\n",
    "        row_idx = tag_dict[item[0]]\n",
    "        for word in keyword_dict[key]:\n",
    "            col_idx = tag_dict[word[0]]\n",
    "            entity_entity_matrix[row_idx, col_idx] += 1"
   ]
  },
  {
   "cell_type": "code",
   "execution_count": 35,
   "metadata": {},
   "outputs": [],
   "source": [
    "def get_most_related_words(word: str, n: int) -> dict:\n",
    "    \"\"\" word: the query word\n",
    "        n: top n\n",
    "    \"\"\"\n",
    "    top_n_dict = {}\n",
    "    try:\n",
    "        word_index = tag_dict[word]\n",
    "    except KeyError:  # the word does not exist\n",
    "        return top_n_dict\n",
    "    # Sort the index by value, return indices of the highest value to the lowest\n",
    "    top_n_indices = np.argsort(entity_entity_matrix[word_index])[::-1][0:n]\n",
    "    top_n_counts = entity_entity_matrix[word_index][top_n_indices]\n",
    "    for i, idx in enumerate(top_n_indices):\n",
    "        tag = idx_to_tag[idx]\n",
    "#         if tag != word:  # remove word itself\n",
    "        top_n_dict[tag] = top_n_counts[i]\n",
    "    return top_n_dict"
   ]
  },
  {
   "cell_type": "code",
   "execution_count": 81,
   "metadata": {},
   "outputs": [
    {
     "data": {
      "text/plain": [
       "{'GraphQL': 65.0,\n",
       " 'first': 26.0,\n",
       " 'Apollo': 18.0,\n",
       " 'Node.js': 18.0,\n",
       " 'UI': 18.0,\n",
       " 'every day': 17.0,\n",
       " 'CSS': 17.0,\n",
       " 'Amazon': 17.0,\n",
       " 'Shopify': 17.0,\n",
       " 'JavaScript': 17.0,\n",
       " 'Argentina': 17.0,\n",
       " 'hundreds': 17.0,\n",
       " 'UX': 17.0,\n",
       " 'New York': 17.0,\n",
       " '401k': 15.0,\n",
       " 'daily': 15.0,\n",
       " 'US': 15.0,\n",
       " 'Android': 15.0,\n",
       " 'U.S.': 14.0,\n",
       " 'QA': 14.0}"
      ]
     },
     "execution_count": 81,
     "metadata": {},
     "output_type": "execute_result"
    }
   ],
   "source": [
    "get_most_related_words('GraphQL', 20)"
   ]
  },
  {
   "cell_type": "code",
   "execution_count": null,
   "metadata": {},
   "outputs": [],
   "source": []
  }
 ],
 "metadata": {
  "kernelspec": {
   "display_name": "Python 3",
   "language": "python",
   "name": "python3"
  },
  "language_info": {
   "codemirror_mode": {
    "name": "ipython",
    "version": 3
   },
   "file_extension": ".py",
   "mimetype": "text/x-python",
   "name": "python",
   "nbconvert_exporter": "python",
   "pygments_lexer": "ipython3",
   "version": "3.8.0"
  },
  "pycharm": {
   "stem_cell": {
    "cell_type": "raw",
    "metadata": {
     "collapsed": false
    },
    "source": []
   }
  }
 },
 "nbformat": 4,
 "nbformat_minor": 1
}
