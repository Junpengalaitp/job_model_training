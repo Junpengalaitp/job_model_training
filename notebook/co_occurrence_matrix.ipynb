{
 "cells": [
  {
   "cell_type": "code",
   "execution_count": 3,
   "metadata": {
    "pycharm": {
     "is_executing": false
    }
   },
   "outputs": [],
   "source": [
    "from collections import defaultdict\n",
    "\n",
    "import numpy as np\n",
    "import pandas as pd\n",
    "from sqlalchemy import create_engine\n"
   ]
  },
  {
   "cell_type": "code",
   "execution_count": 4,
   "metadata": {},
   "outputs": [],
   "source": [
    "conn = create_engine(\n",
    "    f\"mysql+mysqlconnector://{'root'}:{'rootroot'}@{'127.0.0.1'}:{3306}/{'alaitp'}?charset=utf8\", pool_recycle=3600)"
   ]
  },
  {
   "cell_type": "code",
   "execution_count": 5,
   "metadata": {},
   "outputs": [],
   "source": [
    "def select_raw_words() -> pd.DataFrame:\n",
    "    sql_query = \"\"\"\n",
    "                    SELECT * FROM keywords_en_core_web_lg\n",
    "                \"\"\"\n",
    "    return pd.read_sql_query(sql_query, conn)\n",
    "\n",
    "def select_job_model_words() -> pd.DataFrame:\n",
    "    sql_query = \"\"\"\n",
    "                    SELECT * FROM keywords_job_model\n",
    "                \"\"\"\n",
    "    return pd.read_sql_query(sql_query, conn)"
   ]
  },
  {
   "cell_type": "code",
   "execution_count": 6,
   "metadata": {
    "pycharm": {
     "is_executing": false,
     "name": "#%%\n"
    }
   },
   "outputs": [],
   "source": [
    "df_raw = select_raw_words()\n",
    "df_job = select_job_model_words()"
   ]
  },
  {
   "cell_type": "code",
   "execution_count": 7,
   "metadata": {
    "pycharm": {
     "is_executing": false,
     "name": "#%%\n"
    }
   },
   "outputs": [
    {
     "data": {
      "text/html": [
       "<div>\n",
       "<style scoped>\n",
       "    .dataframe tbody tr th:only-of-type {\n",
       "        vertical-align: middle;\n",
       "    }\n",
       "\n",
       "    .dataframe tbody tr th {\n",
       "        vertical-align: top;\n",
       "    }\n",
       "\n",
       "    .dataframe thead th {\n",
       "        text-align: right;\n",
       "    }\n",
       "</style>\n",
       "<table border=\"1\" class=\"dataframe\">\n",
       "  <thead>\n",
       "    <tr style=\"text-align: right;\">\n",
       "      <th></th>\n",
       "      <th>keyword_name</th>\n",
       "      <th>job_id</th>\n",
       "      <th>job_title</th>\n",
       "      <th>created_time</th>\n",
       "      <th>count</th>\n",
       "      <th>source</th>\n",
       "      <th>keyword_type</th>\n",
       "    </tr>\n",
       "  </thead>\n",
       "  <tbody>\n",
       "    <tr>\n",
       "      <th>0</th>\n",
       "      <td>Data Engineer</td>\n",
       "      <td>00016610eea6e65ac752c90d65a45c51b0247cb8ed35cc...</td>\n",
       "      <td>Data Engineer</td>\n",
       "      <td>2020-01-17 20:23:06</td>\n",
       "      <td>1</td>\n",
       "      <td>dice</td>\n",
       "      <td>POSITION</td>\n",
       "    </tr>\n",
       "    <tr>\n",
       "      <th>1</th>\n",
       "      <td>Sql</td>\n",
       "      <td>00016610eea6e65ac752c90d65a45c51b0247cb8ed35cc...</td>\n",
       "      <td>Data Engineer</td>\n",
       "      <td>2020-01-17 20:23:06</td>\n",
       "      <td>1</td>\n",
       "      <td>dice</td>\n",
       "      <td>OTHER_LANGUAGE</td>\n",
       "    </tr>\n",
       "    <tr>\n",
       "      <th>2</th>\n",
       "      <td>Hive</td>\n",
       "      <td>00016610eea6e65ac752c90d65a45c51b0247cb8ed35cc...</td>\n",
       "      <td>Data Engineer</td>\n",
       "      <td>2020-01-17 20:23:06</td>\n",
       "      <td>2</td>\n",
       "      <td>dice</td>\n",
       "      <td>DATA_STORAGE</td>\n",
       "    </tr>\n",
       "    <tr>\n",
       "      <th>3</th>\n",
       "      <td>TeraData</td>\n",
       "      <td>00016610eea6e65ac752c90d65a45c51b0247cb8ed35cc...</td>\n",
       "      <td>Data Engineer</td>\n",
       "      <td>2020-01-17 20:23:06</td>\n",
       "      <td>1</td>\n",
       "      <td>dice</td>\n",
       "      <td>DATA_TRANSMISSION</td>\n",
       "    </tr>\n",
       "    <tr>\n",
       "      <th>4</th>\n",
       "      <td>Sunnyvale</td>\n",
       "      <td>00016610eea6e65ac752c90d65a45c51b0247cb8ed35cc...</td>\n",
       "      <td>Data Engineer</td>\n",
       "      <td>2020-01-17 20:23:06</td>\n",
       "      <td>1</td>\n",
       "      <td>dice</td>\n",
       "      <td>GPE</td>\n",
       "    </tr>\n",
       "    <tr>\n",
       "      <th>...</th>\n",
       "      <td>...</td>\n",
       "      <td>...</td>\n",
       "      <td>...</td>\n",
       "      <td>...</td>\n",
       "      <td>...</td>\n",
       "      <td>...</td>\n",
       "      <td>...</td>\n",
       "    </tr>\n",
       "    <tr>\n",
       "      <th>1587747</th>\n",
       "      <td>Canada</td>\n",
       "      <td>fffd98db79eed29774ed661bc777edfd4fc30d614944e8...</td>\n",
       "      <td>Illustrator</td>\n",
       "      <td>2020-01-18 08:36:40</td>\n",
       "      <td>1</td>\n",
       "      <td>dice</td>\n",
       "      <td>GPE</td>\n",
       "    </tr>\n",
       "    <tr>\n",
       "      <th>1587748</th>\n",
       "      <td>2019</td>\n",
       "      <td>fffd98db79eed29774ed661bc777edfd4fc30d614944e8...</td>\n",
       "      <td>Illustrator</td>\n",
       "      <td>2020-01-18 08:36:40</td>\n",
       "      <td>1</td>\n",
       "      <td>dice</td>\n",
       "      <td>CARDINAL</td>\n",
       "    </tr>\n",
       "    <tr>\n",
       "      <th>1587749</th>\n",
       "      <td>Robert Half Company</td>\n",
       "      <td>fffd98db79eed29774ed661bc777edfd4fc30d614944e8...</td>\n",
       "      <td>Illustrator</td>\n",
       "      <td>2020-01-18 08:36:40</td>\n",
       "      <td>1</td>\n",
       "      <td>dice</td>\n",
       "      <td>ORG</td>\n",
       "    </tr>\n",
       "    <tr>\n",
       "      <th>1587750</th>\n",
       "      <td>Equal Opportunity</td>\n",
       "      <td>fffd98db79eed29774ed661bc777edfd4fc30d614944e8...</td>\n",
       "      <td>Illustrator</td>\n",
       "      <td>2020-01-18 08:36:40</td>\n",
       "      <td>1</td>\n",
       "      <td>dice</td>\n",
       "      <td>OFFER</td>\n",
       "    </tr>\n",
       "    <tr>\n",
       "      <th>1587751</th>\n",
       "      <td>Robert</td>\n",
       "      <td>fffd98db79eed29774ed661bc777edfd4fc30d614944e8...</td>\n",
       "      <td>Illustrator</td>\n",
       "      <td>2020-01-18 08:36:40</td>\n",
       "      <td>1</td>\n",
       "      <td>dice</td>\n",
       "      <td>PERSON</td>\n",
       "    </tr>\n",
       "  </tbody>\n",
       "</table>\n",
       "<p>1587752 rows × 7 columns</p>\n",
       "</div>"
      ],
      "text/plain": [
       "                keyword_name  \\\n",
       "0              Data Engineer   \n",
       "1                        Sql   \n",
       "2                       Hive   \n",
       "3                   TeraData   \n",
       "4                  Sunnyvale   \n",
       "...                      ...   \n",
       "1587747               Canada   \n",
       "1587748                 2019   \n",
       "1587749  Robert Half Company   \n",
       "1587750    Equal Opportunity   \n",
       "1587751               Robert   \n",
       "\n",
       "                                                    job_id      job_title  \\\n",
       "0        00016610eea6e65ac752c90d65a45c51b0247cb8ed35cc...  Data Engineer   \n",
       "1        00016610eea6e65ac752c90d65a45c51b0247cb8ed35cc...  Data Engineer   \n",
       "2        00016610eea6e65ac752c90d65a45c51b0247cb8ed35cc...  Data Engineer   \n",
       "3        00016610eea6e65ac752c90d65a45c51b0247cb8ed35cc...  Data Engineer   \n",
       "4        00016610eea6e65ac752c90d65a45c51b0247cb8ed35cc...  Data Engineer   \n",
       "...                                                    ...            ...   \n",
       "1587747  fffd98db79eed29774ed661bc777edfd4fc30d614944e8...    Illustrator   \n",
       "1587748  fffd98db79eed29774ed661bc777edfd4fc30d614944e8...    Illustrator   \n",
       "1587749  fffd98db79eed29774ed661bc777edfd4fc30d614944e8...    Illustrator   \n",
       "1587750  fffd98db79eed29774ed661bc777edfd4fc30d614944e8...    Illustrator   \n",
       "1587751  fffd98db79eed29774ed661bc777edfd4fc30d614944e8...    Illustrator   \n",
       "\n",
       "               created_time  count source       keyword_type  \n",
       "0       2020-01-17 20:23:06      1   dice           POSITION  \n",
       "1       2020-01-17 20:23:06      1   dice     OTHER_LANGUAGE  \n",
       "2       2020-01-17 20:23:06      2   dice       DATA_STORAGE  \n",
       "3       2020-01-17 20:23:06      1   dice  DATA_TRANSMISSION  \n",
       "4       2020-01-17 20:23:06      1   dice                GPE  \n",
       "...                     ...    ...    ...                ...  \n",
       "1587747 2020-01-18 08:36:40      1   dice                GPE  \n",
       "1587748 2020-01-18 08:36:40      1   dice           CARDINAL  \n",
       "1587749 2020-01-18 08:36:40      1   dice                ORG  \n",
       "1587750 2020-01-18 08:36:40      1   dice              OFFER  \n",
       "1587751 2020-01-18 08:36:40      1   dice             PERSON  \n",
       "\n",
       "[1587752 rows x 7 columns]"
      ]
     },
     "execution_count": 7,
     "metadata": {},
     "output_type": "execute_result"
    }
   ],
   "source": [
    "df_job"
   ]
  },
  {
   "cell_type": "code",
   "execution_count": 14,
   "metadata": {
    "pycharm": {
     "name": "#%%\n"
    }
   },
   "outputs": [],
   "source": [
    "unique_tag = list(df_job.keyword_name.unique())\n",
    "tag_idx = [unique_tag.index(word) for word in unique_tag]\n",
    "tag_dict = dict(zip(unique_tag, tag_idx))\n",
    "idx_to_tag = dict(zip(tag_idx, unique_tag))\n"
   ]
  },
  {
   "cell_type": "code",
   "execution_count": 15,
   "metadata": {},
   "outputs": [],
   "source": [
    "entity_entity_matrix = np.zeros((len(unique_tag), len(unique_tag)), np.float64)\n",
    "keyword_dict = defaultdict(list)\n",
    "for row in df_job.itertuples():\n",
    "    # Check whether the news_id exist\n",
    "    keyword_tuple = (row.keyword_name, row.count, row.keyword_type)\n",
    "    job_id = row.job_id\n",
    "    keyword_dict[job_id].append(keyword_tuple)\n",
    "\n",
    "for key in keyword_dict:\n",
    "    for item in keyword_dict[key]:\n",
    "        row_idx = tag_dict[item[0]]\n",
    "        for word in keyword_dict[key]:\n",
    "            col_idx = tag_dict[word[0]]\n",
    "            entity_entity_matrix[row_idx, col_idx] += 1"
   ]
  },
  {
   "cell_type": "code",
   "execution_count": 16,
   "metadata": {},
   "outputs": [],
   "source": [
    "def get_most_related_words(word: str, n: int) -> dict:\n",
    "    \"\"\" word: the query word\n",
    "        n: top n\n",
    "    \"\"\"\n",
    "    top_n_dict = {}\n",
    "    try:\n",
    "        word_index = tag_dict[word]\n",
    "    except KeyError:  # the word does not exist\n",
    "        return top_n_dict\n",
    "    # Sort the index by value, return indices of the highest value to the lowest\n",
    "    top_n_indices = np.argsort(entity_entity_matrix[word_index])[::-1][0:n]\n",
    "    top_n_counts = entity_entity_matrix[word_index][top_n_indices]\n",
    "    for i, idx in enumerate(top_n_indices):\n",
    "        tag = idx_to_tag[idx]\n",
    "#         if tag != word:  # remove word itself\n",
    "        top_n_dict[tag] = top_n_counts[i]\n",
    "    return top_n_dict"
   ]
  },
  {
   "cell_type": "code",
   "execution_count": 25,
   "metadata": {},
   "outputs": [
    {
     "data": {
      "text/plain": [
       "{'Django': 212.0,\n",
       " 'Python': 191.0,\n",
       " 'experience': 165.0,\n",
       " 'Experience': 119.0,\n",
       " 'AWS': 105.0,\n",
       " 'design': 97.0,\n",
       " 'Flask': 85.0,\n",
       " 'SQL': 74.0,\n",
       " 'architecture': 71.0,\n",
       " 'JavaScript': 67.0,\n",
       " 'web': 64.0,\n",
       " 'Java': 57.0,\n",
       " 'Agile': 56.0,\n",
       " 'Linux': 56.0,\n",
       " 'Equal Opportunity': 54.0,\n",
       " 'Computer Science': 51.0,\n",
       " 'API': 51.0,\n",
       " 'React': 50.0,\n",
       " 'Developer': 49.0,\n",
       " 'developing': 49.0,\n",
       " 'security': 43.0,\n",
       " 'HTML': 42.0,\n",
       " 'CI': 41.0,\n",
       " 'the United States': 40.0,\n",
       " 'Docker': 40.0,\n",
       " 'CSS': 40.0,\n",
       " 'DevOps': 39.0,\n",
       " 'U.S.': 39.0,\n",
       " 'CD': 39.0,\n",
       " 'Git': 38.0,\n",
       " 'best practices': 38.0,\n",
       " 'agile': 37.0,\n",
       " 'testing': 37.0,\n",
       " 'PostgreSQL': 35.0,\n",
       " 'web applications': 34.0,\n",
       " 'MySQL': 33.0,\n",
       " 'designing': 32.0,\n",
       " 'REST': 32.0,\n",
       " 'software development': 32.0,\n",
       " 'APIs': 31.0,\n",
       " 'Oracle': 31.0,\n",
       " 'Angular': 31.0,\n",
       " 'integration': 30.0,\n",
       " 'backend': 30.0,\n",
       " 'Javascript': 29.0,\n",
       " 'Jenkins': 29.0,\n",
       " 'Amazon Web': 28.0,\n",
       " 'computer science': 28.0,\n",
       " 'MongoDB': 28.0,\n",
       " 'development': 27.0}"
      ]
     },
     "execution_count": 25,
     "metadata": {},
     "output_type": "execute_result"
    }
   ],
   "source": [
    "get_most_related_words('Django', 50)"
   ]
  },
  {
   "cell_type": "code",
   "execution_count": null,
   "metadata": {},
   "outputs": [],
   "source": []
  }
 ],
 "metadata": {
  "kernelspec": {
   "display_name": "Python 3",
   "language": "python",
   "name": "python3"
  },
  "language_info": {
   "codemirror_mode": {
    "name": "ipython",
    "version": 3
   },
   "file_extension": ".py",
   "mimetype": "text/x-python",
   "name": "python",
   "nbconvert_exporter": "python",
   "pygments_lexer": "ipython3",
   "version": "3.8.0"
  },
  "pycharm": {
   "stem_cell": {
    "cell_type": "raw",
    "metadata": {
     "collapsed": false
    },
    "source": []
   }
  }
 },
 "nbformat": 4,
 "nbformat_minor": 1
}
